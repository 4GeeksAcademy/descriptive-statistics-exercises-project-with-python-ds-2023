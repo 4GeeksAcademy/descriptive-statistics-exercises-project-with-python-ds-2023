{
    "cells": [
        {
            "cell_type": "markdown",
            "id": "ac622319",
            "metadata": {},
            "source": [
                "# Descriptive statistics problems"
            ]
        },
        {
            "cell_type": "markdown",
            "id": "aa8993e4",
            "metadata": {},
            "source": [
                "### Exercise 1"
            ]
        },
        {
            "cell_type": "markdown",
            "id": "5e0ab0d5",
            "metadata": {},
            "source": [
                "We will use Numpy to obtain information to describe statistically.\n",
                "\n",
                "- Generate an array of 100 elements following a normal distribution.\n",
                "- Generate an array of 100 elements following a chi-square distribution with 3 degrees of freedom.\n",
                "- Calculate the main metrics and statistical measures that best describe the two vectors."
            ]
        },
        {
            "cell_type": "code",
            "execution_count": null,
            "id": "60cb2658",
            "metadata": {},
            "outputs": [],
            "source": [
                "import numpy as np\n",
                "from scipy import stats\n",
                "import matplotlib.pyplot as plt"
            ]
        },
        {
            "cell_type": "code",
            "execution_count": 1,
            "id": "34720ab6",
            "metadata": {},
            "outputs": [],
            "source": [
                "# TODO\n",
                "\n",
                "vector1 = np.random.randn(1000)\n",
                "vector2 = np.random.chisquare(df = 3, size=1000)\n",
                "\n",
                "\n",
                "mean_vector1 = np.mean(vector1)  \n",
                "mean_vector2 = np.mean(vector2) \n",
                "\n",
                "median_vector1 = np.median(vector1)  \n",
                "median_vector2 = np.median(vector2) \n",
                "\n",
                "std_dev_vector1 = np.std(vector1)  \n",
                "std_dev_vector2 = np.std(vector2)  \n",
                "\n",
                "correlation_coefficient = np.corrcoef(vector1, vector2)[0, 1] \n",
                "\n",
                "vector1_skewness = stats.skew(vector1)  \n",
                "vector2_skewness = stats.skew(vector2)  \n",
                "\n",
                "vector1_kurtosis = stats.kurtosis(vector1) \n",
                "vector2_kurtosis = stats.kurtosis(vector2)  \n",
                "\n",
                "# Print the calculated measures\n",
                "print(\"Mean of vector1:\", mean_vector1)\n",
                "print(\"Mean of vector2:\", mean_vector2)\n",
                "print(\"Median of vector1:\", median_vector1)\n",
                "print(\"Median of vector2:\", median_vector2)\n",
                "print(\"Standard Deviation of vector1:\", std_dev_vector1)\n",
                "print(\"Standard Deviation of vector2:\", std_dev_vector2)\n",
                "print(\"Correlation Coefficient between vector1 and vector2:\", correlation_coefficient)\n",
                "print(\"Skewness of vector1:\", vector1_skewness)\n",
                "print(\"Skewness of vector2:\", vector2_skewness)\n",
                "print(\"Kurtosis of vector1:\", vector1_kurtosis)\n",
                "print(\"Kurtosis of vector2:\", vector2_kurtosis)"
            ]
        },
        {
            "cell_type": "markdown",
            "id": "46c70c3d",
            "metadata": {},
            "source": [
                "### Exercise 2\n",
                "\n",
                "Write a Python program to calculate the standard deviation of the following data:\n",
                "\n",
                "```py\n",
                "data = [4, 2, 5, 8, 6]\n",
                "```"
            ]
        },
        {
            "cell_type": "code",
            "execution_count": 2,
            "id": "d590308e",
            "metadata": {},
            "outputs": [],
            "source": [
                "# TODO\n",
                "\n",
                "data = [4, 2, 5, 8, 6]\n",
                "\n",
                "print(np.std(data))\n"
            ]
        }
    ],
    "metadata": {
        "interpreter": {
            "hash": "9248718ffe6ce6938b217e69dbcc175ea21f4c6b28a317e96c05334edae734bb"
        },
        "kernelspec": {
            "display_name": "Python 3.9.12 ('ML-BOOTCAMP')",
            "language": "python",
            "name": "python3"
        },
        "language_info": {
            "codemirror_mode": {
                "name": "ipython",
                "version": 3
            },
            "file_extension": ".py",
            "mimetype": "text/x-python",
            "name": "python",
            "nbconvert_exporter": "python",
            "pygments_lexer": "ipython3",
            "version": "3.11.4"
        }
    },
    "nbformat": 4,
    "nbformat_minor": 5
}
